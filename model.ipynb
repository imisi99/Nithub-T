{
 "cells": [
  {
   "cell_type": "code",
   "execution_count": null,
   "id": "initial_id",
   "metadata": {
    "collapsed": true
   },
   "outputs": [],
   "source": [
    "import transformers\n",
    "import os\n",
    "from skl2onnx import convert_sklearn\n",
    "from skl2onnx.common.data_types import StringTensorType\n",
    "from web_scraper import scrape\n",
    "from transformers import pipeline\n",
    "from sklearn.model_selection import train_test_split\n",
    "from sklearn.svm import SVC\n",
    "from sklearn.naive_bayes import MultinomialNB\n",
    "from sklearn.feature_extraction.text import TfidfVectorizer\n",
    "from sklearn.pipeline import make_pipeline\n",
    "transformers.logging.set_verbosity_info()\n",
    "os.environ[\"TF_CPP_MIN_LOG_LEVEL\"] = \"3\"\n",
    "os.environ[\"TF_ENABLE_ONEDNN_OPTS\"] = \"0\""
   ]
  },
  {
   "metadata": {},
   "cell_type": "code",
   "outputs": [],
   "execution_count": null,
   "source": [
    "# get sentence from the web scraper module\n",
    "url ='https://www.gq.com/story/wrexham-fc-ryan-reynolds-rob-mcelhenney'\n",
    "sentences = scrape(url)\n",
    "print(sentences[:2])"
   ],
   "id": "b509f70c1b89d38"
  },
  {
   "metadata": {},
   "cell_type": "code",
   "outputs": [],
   "execution_count": null,
   "source": [
    "# creating a function to handle neutral sentences\n",
    "def classify_neutral(sentence, model, threshold=0.85):\n",
    "    result = model(sentence)[0]\n",
    "    if result['score'] < threshold:\n",
    "        return 'neutral'\n",
    "    return result['label'].lower()"
   ],
   "id": "3a5c52a0d73c040"
  },
  {
   "metadata": {},
   "cell_type": "code",
   "outputs": [],
   "execution_count": null,
   "source": [
    "# Automating the annotation of the sentence using hugging face\n",
    "sentiment_model = pipeline('sentiment-analysis')\n",
    "labeled_sentences = [(sentence, classify_neutral(sentence, sentiment_model)) for sentence in sentences]"
   ],
   "id": "204588c1bfc084dd"
  },
  {
   "metadata": {},
   "cell_type": "code",
   "outputs": [],
   "execution_count": null,
   "source": [
    "count = 0\n",
    "for _, label in labeled_sentences:\n",
    "    if label == 'neutral':\n",
    "        count += 1\n",
    "print(count)"
   ],
   "id": "ba274c4e73db4b1c"
  },
  {
   "metadata": {},
   "cell_type": "code",
   "outputs": [],
   "execution_count": null,
   "source": [
    "# Splitting dataset\n",
    "text, label = zip(*labeled_sentences)\n",
    "x_train, x_test, y_train, y_test = train_test_split(text, label, test_size=0.2, random_state=42)"
   ],
   "id": "13b860235061c226"
  },
  {
   "metadata": {},
   "cell_type": "code",
   "outputs": [],
   "execution_count": null,
   "source": [
    "# Training a svm model\n",
    "svm_model = make_pipeline(TfidfVectorizer(), SVC(kernel='rbf', gamma=2.0, C=2.0))\n",
    "svm_model.fit(x_train, y_train)\n",
    "accuracy = svm_model.score(x_test, y_test)\n",
    "print(f\"Model Accuracy: {accuracy:.2f}\")"
   ],
   "id": "50c74a6b1ef5efbd"
  },
  {
   "metadata": {},
   "cell_type": "code",
   "outputs": [],
   "execution_count": null,
   "source": [
    "# Naive Bayes model for A/B testing\n",
    "nb_model = make_pipeline(TfidfVectorizer(), MultinomialNB())\n",
    "nb_model.fit(x_train, y_train)\n",
    "accuracy = nb_model.score(x_test, y_test)\n",
    "print(f\"Model Accuracy: {accuracy:.2f}\")"
   ],
   "id": "3e0506f74e88245b"
  },
  {
   "metadata": {},
   "cell_type": "markdown",
   "source": [
    "# A/B Testing\n",
    "From the above description after testing the model on the same test dataset it is clear that the svm model outperforms the naive bayes model which is the baseline model\n",
    "Dataset size = 200 sentences\n",
    "Accuracy score for naive bayes = 0.60\n",
    "Accuracy score for svm = 0.65\n",
    "while a 5% increase might not be too significant this is due to the smaller dataset that was used to perform this test"
   ],
   "id": "239a12cd735bc981"
  },
  {
   "metadata": {},
   "cell_type": "code",
   "outputs": [],
   "execution_count": null,
   "source": [
    "# Using onnx for optimizing svm model for inferencing\n",
    "initial_type = [(\"input\", StringTensorType([None]))]\n",
    "onnx_model = convert_sklearn(svm_model, initial_types=initial_type)\n",
    "\n",
    "onnx_model_path = \"svm_model.onnx\"\n",
    "with open(onnx_model_path, \"wb\") as f:\n",
    "    f.write(onnx_model.SerializeToString())"
   ],
   "id": "16786a8ff927ddcf"
  }
 ],
 "metadata": {
  "kernelspec": {
   "display_name": "Python 3",
   "language": "python",
   "name": "python3"
  },
  "language_info": {
   "codemirror_mode": {
    "name": "ipython",
    "version": 2
   },
   "file_extension": ".py",
   "mimetype": "text/x-python",
   "name": "python",
   "nbconvert_exporter": "python",
   "pygments_lexer": "ipython2",
   "version": "2.7.6"
  }
 },
 "nbformat": 4,
 "nbformat_minor": 5
}
